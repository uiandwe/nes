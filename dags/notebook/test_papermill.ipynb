{
 "cells": [
  {
   "cell_type": "code",
   "execution_count": null,
   "id": "c91a43f4-ec7c-404b-be17-98b6e609c282",
   "metadata": {},
   "outputs": [],
   "source": [
    "msgs"
   ]
  },
  {
   "cell_type": "code",
   "execution_count": null,
   "id": "45d45d48-2616-4ce1-a50d-ba432b792649",
   "metadata": {},
   "outputs": [],
   "source": [
    "execution_date"
   ]
  },
  {
   "cell_type": "code",
   "execution_count": null,
   "id": "469ee17a-0a2c-4d81-994b-3baac9d30435",
   "metadata": {},
   "outputs": [],
   "source": [
    "print(\"run papermil\")"
   ]
  }
 ],
 "metadata": {
  "kernelspec": {
   "display_name": "Python 3 (ipykernel)",
   "language": "python",
   "name": "python3"
  },
  "language_info": {
   "codemirror_mode": {
    "name": "ipython",
    "version": 3
   },
   "file_extension": ".py",
   "mimetype": "text/x-python",
   "name": "python",
   "nbconvert_exporter": "python",
   "pygments_lexer": "ipython3",
   "version": "3.10.6"
  }
 },
 "nbformat": 4,
 "nbformat_minor": 5
}
